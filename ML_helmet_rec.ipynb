{
  "nbformat": 4,
  "nbformat_minor": 0,
  "metadata": {
    "colab": {
      "name": "ML_helmet_rec.ipynb",
      "provenance": [],
      "collapsed_sections": [],
      "authorship_tag": "ABX9TyMvD3GPiiDWlDH/5yWfoPaV",
      "include_colab_link": true
    },
    "kernelspec": {
      "name": "python3",
      "display_name": "Python 3"
    }
  },
  "cells": [
    {
      "cell_type": "markdown",
      "metadata": {
        "id": "view-in-github",
        "colab_type": "text"
      },
      "source": [
        "<a href=\"https://colab.research.google.com/github/xuanthang482/CS114.K21_CourseProject/blob/master/ML_helmet_rec.ipynb\" target=\"_parent\"><img src=\"https://colab.research.google.com/assets/colab-badge.svg\" alt=\"Open In Colab\"/></a>"
      ]
    },
    {
      "cell_type": "code",
      "metadata": {
        "id": "slIpfGeZCLuu",
        "colab_type": "code",
        "colab": {
          "base_uri": "https://localhost:8080/",
          "height": 122
        },
        "outputId": "83792213-bb2d-448d-ce99-270543cbc317"
      },
      "source": [
        "from google.colab import drive\n",
        "drive.mount('/mydrive', True)\n"
      ],
      "execution_count": null,
      "outputs": [
        {
          "output_type": "stream",
          "text": [
            "Go to this URL in a browser: https://accounts.google.com/o/oauth2/auth?client_id=947318989803-6bn6qk8qdgf4n4g3pfee6491hc0brc4i.apps.googleusercontent.com&redirect_uri=urn%3aietf%3awg%3aoauth%3a2.0%3aoob&response_type=code&scope=email%20https%3a%2f%2fwww.googleapis.com%2fauth%2fdocs.test%20https%3a%2f%2fwww.googleapis.com%2fauth%2fdrive%20https%3a%2f%2fwww.googleapis.com%2fauth%2fdrive.photos.readonly%20https%3a%2f%2fwww.googleapis.com%2fauth%2fpeopleapi.readonly\n",
            "\n",
            "Enter your authorization code:\n",
            "··········\n",
            "Mounted at /mydrive\n"
          ],
          "name": "stdout"
        }
      ]
    },
    {
      "cell_type": "code",
      "metadata": {
        "id": "aJCaK0JnCebB",
        "colab_type": "code",
        "colab": {}
      },
      "source": [
        "import cv2\n",
        "import sys\n",
        "from google.colab import files\n",
        "from google.colab.patches import cv2_imshow"
      ],
      "execution_count": null,
      "outputs": []
    },
    {
      "cell_type": "code",
      "metadata": {
        "id": "7Pl8GhzJCinu",
        "colab_type": "code",
        "colab": {}
      },
      "source": [
        "import pandas as pd\n",
        "import numpy as np\n",
        "import matplotlib.pyplot as plt\n",
        "%matplotlib inline\n",
        "from skimage import io\n",
        "from skimage.io import imread, imshow\n",
        "from sklearn.linear_model import LogisticRegression\n",
        "from sklearn.svm import SVC\n",
        "from sklearn.ensemble import RandomForestClassifier \n",
        "from sklearn.model_selection import GridSearchCV\n",
        "from sklearn.metrics import classification_report\n",
        "from imutils import paths\n",
        "from keras.applications import VGG16\n",
        "from keras.applications import imagenet_utils\n",
        "from keras.preprocessing.image import img_to_array\n",
        "from keras.preprocessing.image import load_img\n",
        "from sklearn.preprocessing import LabelEncoder\n",
        "from sklearn.model_selection import train_test_split\n",
        "import seaborn as sns\n",
        "import os\n",
        "import random\n",
        "from sklearn.metrics import confusion_matrix"
      ],
      "execution_count": null,
      "outputs": []
    },
    {
      "cell_type": "code",
      "metadata": {
        "id": "1SxUTkCtC0t4",
        "colab_type": "code",
        "colab": {}
      },
      "source": [
        "path = '/mydrive/My Drive/ML_Project/Train_helmet/'\n",
        "filenames=os.listdir(path)"
      ],
      "execution_count": null,
      "outputs": []
    },
    {
      "cell_type": "markdown",
      "metadata": {
        "id": "a2ExwiZj8Tys",
        "colab_type": "text"
      },
      "source": [
        "Các image lưu trong drive dưới dạng 1.+(...).jpg biêu thị cho image có người đội mũ . 0.+(...).jpg biểu thị cho ảnh người không đội mũ . Em dùng 1 mảng chứa các label của ảnh "
      ]
    },
    {
      "cell_type": "code",
      "metadata": {
        "id": "Hl3WE4BUGCYU",
        "colab_type": "code",
        "colab": {}
      },
      "source": [
        "categories=[]\n",
        "for f_name in filenames:\n",
        "    category=f_name.split('.')[0]\n",
        "    if category=='1':\n",
        "        categories.append('1')\n",
        "    else:\n",
        "        categories.append('0')"
      ],
      "execution_count": null,
      "outputs": []
    },
    {
      "cell_type": "code",
      "metadata": {
        "id": "uYUZAJ1F_CUe",
        "colab_type": "code",
        "colab": {}
      },
      "source": [
        "image = load_img(path+filenames[0])\n",
        "plt.imshow(image)"
      ],
      "execution_count": null,
      "outputs": []
    },
    {
      "cell_type": "markdown",
      "metadata": {
        "id": "HQfxZZTX9yxG",
        "colab_type": "text"
      },
      "source": [
        "# **Tiền xử lí dữ liệu**"
      ]
    },
    {
      "cell_type": "code",
      "metadata": {
        "id": "X90V1qn3KwVh",
        "colab_type": "code",
        "colab": {}
      },
      "source": [
        "def crop()\n",
        "  for imgpath in os.listdir(path):\n",
        "    #resize về kích thước 224,224 và cắt ảnh chỉ lấy nữa trên của ảnh\n",
        "    im = load_img(path+\"/\"+imgpath,target_size=(224,224))\n",
        "    width, height = im.size\n",
        "    xx = width*0.2\n",
        "    yy =0\n",
        "    w = width*0.9\n",
        "    h = height*0.50\n",
        "    im1 =im.crop((xx, yy, w, h))\n",
        "    im1= np.array (im1)\n",
        "    #làm mờ ảnh  \n",
        "    im2 = cv2.GaussianBlur(im1, (3, 3), 0)\n",
        "    #sử dụng canny edge để tìm ra các cạnh có trong ảnh\n",
        "    a = cv2.Canny(im2, 150, 200)\n",
        "    a=cv2.resize(a,(200,200))\n",
        "    #list f bao gồm n ảnh đã qua xử lí có dạng là (n,224,224)"
      ],
      "execution_count": null,
      "outputs": []
    },
    {
      "cell_type": "markdown",
      "metadata": {
        "id": "aXGAYhfz_huu",
        "colab_type": "text"
      },
      "source": [
        "Đây là ảnh trước và sau khi xử lí"
      ]
    },
    {
      "cell_type": "code",
      "metadata": {
        "id": "zOxxlOhn965d",
        "colab_type": "code",
        "colab": {}
      },
      "source": [
        "image = load_img(path+filenames[500])\n",
        "plt.imshow(image)\n",
        "cv2_imshow(f[500])"
      ],
      "execution_count": null,
      "outputs": []
    },
    {
      "cell_type": "markdown",
      "metadata": {
        "id": "ft2qE0XxUMIB",
        "colab_type": "text"
      },
      "source": [
        "# Feature Extraction with canny edge "
      ]
    },
    {
      "cell_type": "markdown",
      "metadata": {
        "id": "lohUF4_H-y6F",
        "colab_type": "text"
      },
      "source": [
        "Sau khi ảnh được đưa về dạng trắng đen(đã xử lí bằng canny) thì để rút ra được đặt trưng của ảnh em dùng cách tính độ lệch chuân"
      ]
    },
    {
      "cell_type": "code",
      "metadata": {
        "id": "Ea72Wo2g9o3-",
        "colab_type": "code",
        "colab": {}
      },
      "source": [
        "\n",
        "def calculate(img):\n",
        "    # tạo mảng trống có kiểu uint8\n",
        "    features = np.array([], dtype='uint8')\n",
        "    section = 1\n",
        "    for y in range(0, img.shape[0], 40):\n",
        "        for x in range(0, img.shape[1], 40):\n",
        "\n",
        "            # Cắt hình ảnh thành một phần 40x40\n",
        "            section_img = img[y:y+40, x:x+40] \n",
        "            # Tính giá trị trung bình và tiêu chuẩn của hình ảnh được phân chia.\n",
        "            section_mean = np.mean(section_img)\n",
        "            section_std = np.std(section_img)\n",
        "            # Thêm các giá trị vừa tính vào mảng\n",
        "            features = np.append(features, [section_mean, section_std])\n",
        "    \n",
        "    # Returning mảng\n",
        "    return features"
      ],
      "execution_count": null,
      "outputs": []
    },
    {
      "cell_type": "code",
      "metadata": {
        "id": "NiaCTsmzDzyN",
        "colab_type": "code",
        "colab": {}
      },
      "source": [
        "s=calculate(f[0])\n",
        "s.shape"
      ],
      "execution_count": null,
      "outputs": []
    },
    {
      "cell_type": "code",
      "metadata": {
        "id": "KCLjhqi6MeCS",
        "colab_type": "code",
        "colab": {}
      },
      "source": [
        "def df_created(filesname,category):\n",
        "  feature_names = []\n",
        "  section = 1  \n",
        "  for y in range(0, 200, 40):\n",
        "    for x in range(0, 200, 40):\n",
        "        feature_names.append(f\"sec{section}_mean\")\n",
        "        feature_names.append(f\"sec{section}_std\")\n",
        "        section += 1\n",
        "  all_imgs = np.zeros((1, 50), dtype='uint8')\n",
        "  #all_imgs = np.append(all_imgs, img_features, axis=0)\n",
        "  for i in range(len(filesname)):\n",
        "      img_features = calculate(filesname[i])\n",
        "      \n",
        "      img_features = img_features.reshape(1, img_features.shape[0])\n",
        "\n",
        "      all_imgs = np.append(all_imgs, img_features, axis=0)\n",
        "\n",
        " all_imgs = all_imgs[1:]\n",
        "\n",
        "  df = pd.DataFrame(all_imgs, columns=feature_names)\n",
        "  df.insert(loc=50, column=\"name\", value=category)\n",
        "  return df"
      ],
      "execution_count": null,
      "outputs": []
    },
    {
      "cell_type": "code",
      "metadata": {
        "id": "cMDR2MTMEBJI",
        "colab_type": "code",
        "colab": {}
      },
      "source": [
        "le = LabelEncoder()\n",
        "labels = le.fit_transform(categories)\n",
        "labels"
      ],
      "execution_count": null,
      "outputs": []
    },
    {
      "cell_type": "code",
      "metadata": {
        "id": "tjGNSvVaRH5U",
        "colab_type": "code",
        "colab": {}
      },
      "source": [
        "feature_df=df_created(f,labels)"
      ],
      "execution_count": null,
      "outputs": []
    },
    {
      "cell_type": "code",
      "metadata": {
        "id": "3IAALxU7RPGh",
        "colab_type": "code",
        "colab": {}
      },
      "source": [
        "feature_names = []\n",
        "section = 1  \n",
        "for y in range(0, 200, 40):\n",
        "  for x in range(0, 200, 40):\n",
        "      feature_names.append(f\"sec{section}_mean\")\n",
        "      feature_names.append(f\"sec{section}_std\")\n",
        "      section += 1\n",
        "feature=feature_df[feature_names]\n",
        "label=feature_df.name"
      ],
      "execution_count": null,
      "outputs": []
    },
    {
      "cell_type": "code",
      "metadata": {
        "id": "z9I4S321iwLc",
        "colab_type": "code",
        "colab": {}
      },
      "source": [
        "feature_df.head(20)"
      ],
      "execution_count": null,
      "outputs": []
    },
    {
      "cell_type": "code",
      "metadata": {
        "id": "YEiL5EhYGMf0",
        "colab_type": "code",
        "colab": {}
      },
      "source": [
        "X_train, X_test, y_train, y_test = train_test_split(feature,label ,test_size=0.2, random_state=2020)\n",
        "params = {'C' : [0.1, 1.0, 10.0, 100.0]}\n",
        "model = GridSearchCV(LogisticRegression(), params)\n",
        "model.fit(X_train, y_train)"
      ],
      "execution_count": null,
      "outputs": []
    },
    {
      "cell_type": "markdown",
      "metadata": {
        "id": "njXKkWsAUhRj",
        "colab_type": "text"
      },
      "source": [
        "### **Evalutate Model **"
      ]
    },
    {
      "cell_type": "code",
      "metadata": {
        "id": "02ZcVPsaGUBe",
        "colab_type": "code",
        "colab": {}
      },
      "source": [
        "y_pred2 = model.predict(X_test)\n",
        "from sklearn.metrics import accuracy_score\n",
        "accuracy_score(y_test,y_pred2)"
      ],
      "execution_count": null,
      "outputs": []
    },
    {
      "cell_type": "code",
      "metadata": {
        "id": "OtTlgXiN8cQ0",
        "colab_type": "code",
        "colab": {}
      },
      "source": [
        "# compute the confusion matrix\n",
        "confusion_mtx = confusion_matrix(y_test, y_pred2) \n",
        "# plot the confusion matrix\n",
        "f,ax = plt.subplots(figsize=(8, 8))\n",
        "sns.heatmap(confusion_mtx, annot=True, linewidths=0.01,cmap=\"Greens\",linecolor=\"gray\", fmt= '.1f',ax=ax)\n",
        "plt.xlabel(\"Predicted Label\")\n",
        "plt.ylabel(\"True Label\")\n",
        "plt.title(\"Confusion Matrix\")\n",
        "plt.show()"
      ],
      "execution_count": null,
      "outputs": []
    },
    {
      "cell_type": "markdown",
      "metadata": {
        "id": "vxM5a9NOUupG",
        "colab_type": "text"
      },
      "source": [
        "## Feature extraction with VGG16"
      ]
    },
    {
      "cell_type": "code",
      "metadata": {
        "id": "2b49FDBTTM4M",
        "colab_type": "code",
        "colab": {}
      },
      "source": [
        "input_shape=(224,224,3)\n",
        "vgg = VGG16(input_shape=input_shape, include_top=False, weights=\"imagenet\")\n",
        "for layer in vgg.layers:\n",
        "    layer.trainable = True\n",
        "vgg.summary()"
      ],
      "execution_count": null,
      "outputs": []
    },
    {
      "cell_type": "code",
      "metadata": {
        "id": "z_nVMGPFZn3K",
        "colab_type": "code",
        "colab": {}
      },
      "source": [
        "feature_list = []\n",
        "for imgpath in filenames:\n",
        "    x = load_img(path+\"/\"+imgpath,target_size=(224,224))\n",
        "    width, height = x.size\n",
        "    xx = width*0.2\n",
        "    yy =0\n",
        "    w = width*0.9\n",
        "    h = height*0.50\n",
        "    im1 =x.crop((xx, yy, w, h))\n",
        "    im1= np.array (im1)\n",
        "    a=cv2.resize(im1,(224,224))\n",
        "    img_array = img_to_array(a)\n",
        "    img_array = np.expand_dims(img_array, axis=0)\n",
        "    img_array = imagenet_utils.preprocess_input(img_array)\n",
        "    features = vgg.predict(img_array)\n",
        "    feature_list.append(features)\n",
        "feat_lst = np.reshape(feature_list,(-1,7*7*512))    "
      ],
      "execution_count": null,
      "outputs": []
    },
    {
      "cell_type": "code",
      "metadata": {
        "id": "OixRPjeLhunt",
        "colab_type": "code",
        "colab": {}
      },
      "source": [
        "feat_lst.shape"
      ],
      "execution_count": null,
      "outputs": []
    },
    {
      "cell_type": "code",
      "metadata": {
        "id": "-IBXjzQbZ0JS",
        "colab_type": "code",
        "colab": {}
      },
      "source": [
        "f_train, f_test, l_train, l_test = train_test_split(feat_lst, labels, test_size=0.2, random_state=2020)\n",
        "params = {'C' : [0.1, 1.0, 10.0, 100.0]}\n",
        "model1 = GridSearchCV(LogisticRegression(), params)\n",
        "model1.fit(f_train, l_train)"
      ],
      "execution_count": null,
      "outputs": []
    },
    {
      "cell_type": "code",
      "metadata": {
        "id": "xFoIShZdaFjr",
        "colab_type": "code",
        "colab": {}
      },
      "source": [
        "y_pred21 = model1.predict(f_test)\n",
        "from sklearn.metrics import accuracy_score\n",
        "accuracy_score(l_test,y_pred21)"
      ],
      "execution_count": null,
      "outputs": []
    },
    {
      "cell_type": "code",
      "metadata": {
        "id": "f87Sa25cIwFx",
        "colab_type": "code",
        "colab": {}
      },
      "source": [
        "import seaborn as sns\n",
        "from sklearn.metrics import confusion_matrix# compute the confusion matrix\n",
        "confusion_mtx = confusion_matrix(l_test, y_pred21) \n",
        "# plot the confusion matrix\n",
        "f,ax = plt.subplots(figsize=(8, 8))\n",
        "sns.heatmap(confusion_mtx, annot=True, linewidths=0.01,cmap=\"Greens\",linecolor=\"gray\", fmt= '.1f',ax=ax)\n",
        "plt.xlabel(\"Predicted Label\")\n",
        "plt.ylabel(\"True Label\")\n",
        "plt.title(\"Confusion Matrix\")\n",
        "plt.show()\n"
      ],
      "execution_count": null,
      "outputs": []
    },
    {
      "cell_type": "code",
      "metadata": {
        "id": "Se-QE4Twaas0",
        "colab_type": "code",
        "colab": {}
      },
      "source": [
        "from google.colab import files\n",
        "files.upload()"
      ],
      "execution_count": null,
      "outputs": []
    },
    {
      "cell_type": "code",
      "metadata": {
        "id": "eE5Fg3pHbRUc",
        "colab_type": "code",
        "colab": {}
      },
      "source": [
        "im = load_img(\"/content/IMG_E5750.JPG\",target_size=(224,224))\n",
        "width, height = im.size\n",
        "xx = width*0.2\n",
        "yy =0\n",
        "w = width*0.9\n",
        "h = height*0.50\n",
        "    # Cropped image of above dimension \n",
        "    # (It will not change orginal image) \n",
        "im1 =im.crop((xx, yy, w, h))\n",
        "im1= np.array (im1) \n",
        "im2 = cv2.GaussianBlur(im1, (3, 3), 0)\n",
        "a = cv2.Canny(im2, 150, 200)\n",
        "a=cv2.resize(a,(224,224))\n",
        "b=features_grid(a)\n",
        "    # Shows theimage in image viewer \n",
        "pre= model.predict(b.reshape(1,-1))\n",
        "print(pre)\n",
        "plt.imshow(im)"
      ],
      "execution_count": null,
      "outputs": []
    },
    {
      "cell_type": "code",
      "metadata": {
        "id": "IDHgOjsCcMlM",
        "colab_type": "code",
        "colab": {}
      },
      "source": [
        "im = load_img(\"/content/video-1594976299 06.jpg\",target_size=(224,224))\n",
        "img_array = img_to_array(x)\n",
        "img_array = np.expand_dims(img_array, axis=0)\n",
        "features = vgg.predict(img_array)\n",
        "features_=np.array(features)\n",
        "pred=model1.predict(features_.reshape(-1,7*7*512))\n",
        "print(pred)\n",
        "plt.imshow(im)"
      ],
      "execution_count": null,
      "outputs": []
    }
  ]
}